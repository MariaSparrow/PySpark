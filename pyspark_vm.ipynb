{
  "nbformat": 4,
  "nbformat_minor": 0,
  "metadata": {
    "colab": {
      "provenance": [],
      "authorship_tag": "ABX9TyNDehcubd6HPV7HQy3TyZcl",
      "include_colab_link": true
    },
    "kernelspec": {
      "name": "python3",
      "display_name": "Python 3"
    },
    "language_info": {
      "name": "python"
    }
  },
  "cells": [
    {
      "cell_type": "markdown",
      "metadata": {
        "id": "view-in-github",
        "colab_type": "text"
      },
      "source": [
        "<a href=\"https://colab.research.google.com/github/MariaSparrow/PySpark/blob/main/pyspark_vm.ipynb\" target=\"_parent\"><img src=\"https://colab.research.google.com/assets/colab-badge.svg\" alt=\"Open In Colab\"/></a>"
      ]
    },
    {
      "cell_type": "markdown",
      "source": [
        "Установка библиотеки PySpark"
      ],
      "metadata": {
        "id": "nCp46G9eCkC7"
      }
    },
    {
      "cell_type": "code",
      "source": [
        "!pip install pyspark"
      ],
      "metadata": {
        "id": "pBHgkG-wCkhL",
        "colab": {
          "base_uri": "https://localhost:8080/"
        },
        "outputId": "049c3bca-4960-4365-fe8a-46d272fad672"
      },
      "execution_count": null,
      "outputs": [
        {
          "output_type": "stream",
          "name": "stdout",
          "text": [
            "Looking in indexes: https://pypi.org/simple, https://us-python.pkg.dev/colab-wheels/public/simple/\n",
            "Collecting pyspark\n",
            "  Downloading pyspark-3.3.1.tar.gz (281.4 MB)\n",
            "\u001b[2K     \u001b[90m━━━━━━━━━━━━━━━━━━━━━━━━━━━━━━━━━━━━━━━\u001b[0m \u001b[32m281.4/281.4 MB\u001b[0m \u001b[31m5.1 MB/s\u001b[0m eta \u001b[36m0:00:00\u001b[0m\n",
            "\u001b[?25h  Preparing metadata (setup.py) ... \u001b[?25l\u001b[?25hdone\n",
            "Collecting py4j==0.10.9.5\n",
            "  Downloading py4j-0.10.9.5-py2.py3-none-any.whl (199 kB)\n",
            "\u001b[2K     \u001b[90m━━━━━━━━━━━━━━━━━━━━━━━━━━━━━━━━━━━━━━\u001b[0m \u001b[32m199.7/199.7 KB\u001b[0m \u001b[31m19.7 MB/s\u001b[0m eta \u001b[36m0:00:00\u001b[0m\n",
            "\u001b[?25hBuilding wheels for collected packages: pyspark\n",
            "  Building wheel for pyspark (setup.py) ... \u001b[?25l\u001b[?25hdone\n",
            "  Created wheel for pyspark: filename=pyspark-3.3.1-py2.py3-none-any.whl size=281845512 sha256=ca7292502499a586226660154eb33f9c8621b07ce7319f6dccbe8e2ec22ee330\n",
            "  Stored in directory: /root/.cache/pip/wheels/43/dc/11/ec201cd671da62fa9c5cc77078235e40722170ceba231d7598\n",
            "Successfully built pyspark\n",
            "Installing collected packages: py4j, pyspark\n",
            "Successfully installed py4j-0.10.9.5 pyspark-3.3.1\n"
          ]
        }
      ]
    },
    {
      "cell_type": "markdown",
      "source": [],
      "metadata": {
        "id": "s7ABCyZCCslT"
      }
    },
    {
      "cell_type": "code",
      "source": [
        "from pyspark.sql.session import SparkSession\n",
        "from pyspark.sql.types import StructType, StructField, IntegerType, StringType\n",
        "\n",
        "spark = SparkSession.builder\\\n",
        "        .master(\"local[*]\")\\\n",
        "        .appName('PySpark_Tutorial')\\\n",
        "        .getOrCreate()"
      ],
      "metadata": {
        "id": "zNgBQVC1Csvn"
      },
      "execution_count": null,
      "outputs": []
    },
    {
      "cell_type": "code",
      "source": [
        "from google.colab import drive\n",
        "import pandas as pd\n",
        "drive.mount('/content/drive')"
      ],
      "metadata": {
        "id": "U0K6iWuhD6SG",
        "colab": {
          "base_uri": "https://localhost:8080/"
        },
        "outputId": "81ddf9c7-4bd4-495a-f973-9a2cce268e6f"
      },
      "execution_count": null,
      "outputs": [
        {
          "output_type": "stream",
          "name": "stdout",
          "text": [
            "Mounted at /content/drive\n"
          ]
        }
      ]
    },
    {
      "cell_type": "markdown",
      "source": [],
      "metadata": {
        "id": "vcMzIWKRCyHX"
      }
    },
    {
      "cell_type": "code",
      "source": [
        "df = spark.read.csv('/content/drive/MyDrive/notebooks/input/дз_iris.csv',\n",
        "                    header=True, \n",
        "                    sep=',', \n",
        "                    inferSchema=True,\n",
        "                    quote=\"\"\n",
        "                    )"
      ],
      "metadata": {
        "id": "V8sAHWCVCyQU"
      },
      "execution_count": null,
      "outputs": []
    },
    {
      "cell_type": "code",
      "source": [
        "df.show()"
      ],
      "metadata": {
        "colab": {
          "base_uri": "https://localhost:8080/"
        },
        "id": "Hx2BjmCEJC1t",
        "outputId": "d3e5af90-1da9-405a-b3e4-4f4c1f74dfa7"
      },
      "execution_count": null,
      "outputs": [
        {
          "output_type": "stream",
          "name": "stdout",
          "text": [
            "+-------------+---------------+----------------+---------------+------------+\n",
            "|\"sepal.length|\"\"sepal.width\"\"|\"\"petal.length\"\"|\"\"petal.width\"\"|\"\"variety\"\"\"|\n",
            "+-------------+---------------+----------------+---------------+------------+\n",
            "|         \"5.1|            3.5|             1.4|            0.2| \"\"Setosa\"\"\"|\n",
            "|         \"4.9|            3.0|             1.4|            0.2| \"\"Setosa\"\"\"|\n",
            "|         \"4.7|            3.2|             1.3|            0.2| \"\"Setosa\"\"\"|\n",
            "|         \"4.6|            3.1|             1.5|            0.2| \"\"Setosa\"\"\"|\n",
            "|           \"5|            3.6|             1.4|            0.2| \"\"Setosa\"\"\"|\n",
            "|         \"5.4|            3.9|             1.7|            0.4| \"\"Setosa\"\"\"|\n",
            "|         \"4.6|            3.4|             1.4|            0.3| \"\"Setosa\"\"\"|\n",
            "|           \"5|            3.4|             1.5|            0.2| \"\"Setosa\"\"\"|\n",
            "|         \"4.4|            2.9|             1.4|            0.2| \"\"Setosa\"\"\"|\n",
            "|         \"4.9|            3.1|             1.5|            0.1| \"\"Setosa\"\"\"|\n",
            "|         \"5.4|            3.7|             1.5|            0.2| \"\"Setosa\"\"\"|\n",
            "|         \"4.8|            3.4|             1.6|            0.2| \"\"Setosa\"\"\"|\n",
            "|         \"4.8|            3.0|             1.4|            0.1| \"\"Setosa\"\"\"|\n",
            "|         \"4.3|            3.0|             1.1|            0.1| \"\"Setosa\"\"\"|\n",
            "|         \"5.8|            4.0|             1.2|            0.2| \"\"Setosa\"\"\"|\n",
            "|         \"5.7|            4.4|             1.5|            0.4| \"\"Setosa\"\"\"|\n",
            "|         \"5.4|            3.9|             1.3|            0.4| \"\"Setosa\"\"\"|\n",
            "|         \"5.1|            3.5|             1.4|            0.3| \"\"Setosa\"\"\"|\n",
            "|         \"5.7|            3.8|             1.7|            0.3| \"\"Setosa\"\"\"|\n",
            "|         \"5.1|            3.8|             1.5|            0.3| \"\"Setosa\"\"\"|\n",
            "+-------------+---------------+----------------+---------------+------------+\n",
            "only showing top 20 rows\n",
            "\n"
          ]
        }
      ]
    },
    {
      "cell_type": "code",
      "source": [
        "import pyspark.sql.functions as F\n",
        "\n",
        "df = df.withColumnRenamed('\"sepal.length', 'sepal_length') \\\n",
        "       .withColumnRenamed('\"\"sepal.width\"\"', 'sepal_width') \\\n",
        "       .withColumnRenamed('\"\"petal.length\"\"', 'petal_length') \\\n",
        "       .withColumnRenamed('\"\"petal.width\"\"', 'petal_width') \\\n",
        "       .withColumnRenamed('\"\"variety\"\"\"', 'variety')\n",
        "df.show(5)"
      ],
      "metadata": {
        "colab": {
          "base_uri": "https://localhost:8080/"
        },
        "id": "RYXHO0xQgkdS",
        "outputId": "a89ead0c-e11f-42dd-f4e4-922e96b32640"
      },
      "execution_count": null,
      "outputs": [
        {
          "output_type": "stream",
          "name": "stdout",
          "text": [
            "+------------+-----------+------------+-----------+-----------+\n",
            "|sepal_length|sepal_width|petal_length|petal_width|    variety|\n",
            "+------------+-----------+------------+-----------+-----------+\n",
            "|        \"5.1|        3.5|         1.4|        0.2|\"\"Setosa\"\"\"|\n",
            "|        \"4.9|        3.0|         1.4|        0.2|\"\"Setosa\"\"\"|\n",
            "|        \"4.7|        3.2|         1.3|        0.2|\"\"Setosa\"\"\"|\n",
            "|        \"4.6|        3.1|         1.5|        0.2|\"\"Setosa\"\"\"|\n",
            "|          \"5|        3.6|         1.4|        0.2|\"\"Setosa\"\"\"|\n",
            "+------------+-----------+------------+-----------+-----------+\n",
            "only showing top 5 rows\n",
            "\n"
          ]
        }
      ]
    },
    {
      "cell_type": "code",
      "source": [
        "df=df.withColumn('variety', F.regexp_replace('variety', '\\\"',''))\\\n",
        ".withColumn('sepal_length', F.regexp_replace('sepal_length', '\\\"',''))\n",
        "\n",
        "df.show(10)"
      ],
      "metadata": {
        "colab": {
          "base_uri": "https://localhost:8080/"
        },
        "id": "1fEB_stzbu8k",
        "outputId": "5b33ea43-5fa5-4222-f7d0-b06f4bce0e12"
      },
      "execution_count": null,
      "outputs": [
        {
          "output_type": "stream",
          "name": "stdout",
          "text": [
            "+------------+-----------+------------+-----------+-------+\n",
            "|sepal_length|sepal_width|petal_length|petal_width|variety|\n",
            "+------------+-----------+------------+-----------+-------+\n",
            "|         5.1|        3.5|         1.4|        0.2| Setosa|\n",
            "|         4.9|        3.0|         1.4|        0.2| Setosa|\n",
            "|         4.7|        3.2|         1.3|        0.2| Setosa|\n",
            "|         4.6|        3.1|         1.5|        0.2| Setosa|\n",
            "|           5|        3.6|         1.4|        0.2| Setosa|\n",
            "|         5.4|        3.9|         1.7|        0.4| Setosa|\n",
            "|         4.6|        3.4|         1.4|        0.3| Setosa|\n",
            "|           5|        3.4|         1.5|        0.2| Setosa|\n",
            "|         4.4|        2.9|         1.4|        0.2| Setosa|\n",
            "|         4.9|        3.1|         1.5|        0.1| Setosa|\n",
            "+------------+-----------+------------+-----------+-------+\n",
            "only showing top 10 rows\n",
            "\n"
          ]
        }
      ]
    },
    {
      "cell_type": "code",
      "source": [
        "df.groupBy('variety') \\\n",
        "  .agg(F.min(\"sepal_length\").alias(\"min_sl\"), \n",
        "       F.max(\"sepal_length\").alias(\"max_sl\"),\n",
        "       F.avg(\"sepal_length\").alias(\"avg_sl\"),\n",
        "       F.min(\"sepal_width\").alias(\"min_sw\"), \n",
        "       F.max(\"sepal_width\").alias(\"max_sw\"),\n",
        "       F.avg(\"sepal_width\").alias(\"avg_sw\"),\n",
        "       F.min(\"petal_length\").alias(\"min_pl\"), \n",
        "       F.max(\"petal_length\").alias(\"max_pl\"),\n",
        "       F.avg(\"petal_length\").alias(\"avg_pl\"),\n",
        "       F.min(\"petal_width\").alias(\"min_pw\"), \n",
        "       F.max(\"petal_width\").alias(\"max_pw\"),\n",
        "       F.avg(\"petal_width\").alias(\"avg_pw\")\n",
        "       ).show()"
      ],
      "metadata": {
        "colab": {
          "base_uri": "https://localhost:8080/"
        },
        "id": "ri7TtkX-g7-0",
        "outputId": "673c016f-3647-45d5-efca-07f6dec51198"
      },
      "execution_count": null,
      "outputs": [
        {
          "output_type": "stream",
          "name": "stdout",
          "text": [
            "+----------+------+------+-----------------+------+------+------------------+------+------+------------------+------+------+------------------+\n",
            "|   variety|min_sl|max_sl|           avg_sl|min_sw|max_sw|            avg_sw|min_pl|max_pl|            avg_pl|min_pw|max_pw|            avg_pw|\n",
            "+----------+------+------+-----------------+------+------+------------------+------+------+------------------+------+------+------------------+\n",
            "|    Setosa|   4.3|   5.8|5.005999999999999|   2.3|   4.4| 3.428000000000001|   1.0|   1.9|1.4620000000000002|   0.1|   0.6|0.2459999999999999|\n",
            "|Versicolor|   4.9|     7|            5.936|   2.0|   3.4|2.7700000000000005|   3.0|   5.1|              4.26|   1.0|   1.8|1.3259999999999998|\n",
            "| Virginica|   4.9|   7.9|6.587999999999998|   2.2|   3.8|2.9739999999999998|   4.5|   6.9|             5.552|   1.4|   2.5|             2.026|\n",
            "+----------+------+------+-----------------+------+------+------------------+------+------+------------------+------+------+------------------+\n",
            "\n"
          ]
        }
      ]
    },
    {
      "cell_type": "markdown",
      "source": [
        "Другой способ привести файл в порядок"
      ],
      "metadata": {
        "id": "cqUfsnG6hDlW"
      }
    },
    {
      "cell_type": "code",
      "source": [
        "with open('/content/drive/MyDrive/notebooks/input/дз_iris.csv') as file1:\n",
        "  with open('/content/drive/MyDrive/notebooks/input/iris_2.csv', 'w') as file2:\n",
        "    for line in file1:\n",
        "      file2.write(line.replace('\"', ''))\n",
        "\n",
        "df_2 = spark.read.csv('/content/drive/MyDrive/notebooks/input/iris_2.csv', inferSchema=True, header=True)\n",
        "\n",
        "df_2 = df_2.withColumnRenamed('sepal.length', 'sepal_length')\n",
        "df_2 = df_2.withColumnRenamed('sepal.width', 'sepal_width')\n",
        "df_2 = df_2.withColumnRenamed('petal.length', 'petal_length')\n",
        "df_2 = df_2.withColumnRenamed('petal.width', 'petal_width')"
      ],
      "metadata": {
        "id": "D9-nnUwKg8CL"
      },
      "execution_count": null,
      "outputs": []
    },
    {
      "cell_type": "code",
      "source": [
        "df_2.groupBy('variety') \\\n",
        "  .agg(F.min(\"sepal_length\").alias(\"min_sl\"), \n",
        "       F.max(\"sepal_length\").alias(\"max_sl\"),\n",
        "       F.avg(\"sepal_length\").alias(\"avg_sl\"),\n",
        "       F.min(\"sepal_width\").alias(\"min_sw\"), \n",
        "       F.max(\"sepal_width\").alias(\"max_sw\"),\n",
        "       F.avg(\"sepal_width\").alias(\"avg_sw\"),\n",
        "       F.min(\"petal_length\").alias(\"min_pl\"), \n",
        "       F.max(\"petal_length\").alias(\"max_pl\"),\n",
        "       F.avg(\"petal_length\").alias(\"avg_pl\"),\n",
        "       F.min(\"petal_width\").alias(\"min_pw\"), \n",
        "       F.max(\"petal_width\").alias(\"max_pw\"),\n",
        "       F.avg(\"petal_width\").alias(\"avg_pw\")\n",
        "       ).show()"
      ],
      "metadata": {
        "colab": {
          "base_uri": "https://localhost:8080/"
        },
        "id": "f4rAdPhNg8Fa",
        "outputId": "61ebdf41-5997-47c7-f0d1-a1ec61e6ceb6"
      },
      "execution_count": null,
      "outputs": [
        {
          "output_type": "stream",
          "name": "stdout",
          "text": [
            "+----------+------+------+-----------------+------+------+------------------+------+------+------------------+------+------+------------------+\n",
            "|   variety|min_sl|max_sl|           avg_sl|min_sw|max_sw|            avg_sw|min_pl|max_pl|            avg_pl|min_pw|max_pw|            avg_pw|\n",
            "+----------+------+------+-----------------+------+------+------------------+------+------+------------------+------+------+------------------+\n",
            "| Virginica|   4.9|   7.9|6.587999999999998|   2.2|   3.8|2.9739999999999998|   4.5|   6.9|             5.552|   1.4|   2.5|             2.026|\n",
            "|    Setosa|   4.3|   5.8|5.005999999999999|   2.3|   4.4| 3.428000000000001|   1.0|   1.9|1.4620000000000002|   0.1|   0.6|0.2459999999999999|\n",
            "|Versicolor|   4.9|   7.0|            5.936|   2.0|   3.4|2.7700000000000005|   3.0|   5.1|              4.26|   1.0|   1.8|1.3259999999999998|\n",
            "+----------+------+------+-----------------+------+------+------------------+------+------+------------------+------+------+------------------+\n",
            "\n"
          ]
        }
      ]
    },
    {
      "cell_type": "code",
      "source": [],
      "metadata": {
        "id": "XrYSiga0g8In"
      },
      "execution_count": null,
      "outputs": []
    }
  ]
}