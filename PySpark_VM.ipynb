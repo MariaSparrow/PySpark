{
  "nbformat": 4,
  "nbformat_minor": 0,
  "metadata": {
    "colab": {
      "provenance": [],
      "authorship_tag": "ABX9TyMivVCGAwq332zw/SYCW3P1"
    },
    "kernelspec": {
      "name": "python3",
      "display_name": "Python 3"
    },
    "language_info": {
      "name": "python"
    }
  },
  "cells": [
    {
      "cell_type": "markdown",
      "source": [
        "Установка библиотеки PySpark"
      ],
      "metadata": {
        "id": "nCp46G9eCkC7"
      }
    },
    {
      "cell_type": "code",
      "source": [
        "!pip install pyspark"
      ],
      "metadata": {
        "id": "pBHgkG-wCkhL",
        "colab": {
          "base_uri": "https://localhost:8080/"
        },
        "outputId": "484c3abe-dc4e-42b1-8690-3a426add7b83"
      },
      "execution_count": 1,
      "outputs": [
        {
          "output_type": "stream",
          "name": "stdout",
          "text": [
            "Looking in indexes: https://pypi.org/simple, https://us-python.pkg.dev/colab-wheels/public/simple/\n",
            "Collecting pyspark\n",
            "  Downloading pyspark-3.3.1.tar.gz (281.4 MB)\n",
            "\u001b[2K     \u001b[90m━━━━━━━━━━━━━━━━━━━━━━━━━━━━━━━━━━━━━━━\u001b[0m \u001b[32m281.4/281.4 MB\u001b[0m \u001b[31m3.8 MB/s\u001b[0m eta \u001b[36m0:00:00\u001b[0m\n",
            "\u001b[?25h  Preparing metadata (setup.py) ... \u001b[?25l\u001b[?25hdone\n",
            "Collecting py4j==0.10.9.5\n",
            "  Downloading py4j-0.10.9.5-py2.py3-none-any.whl (199 kB)\n",
            "\u001b[2K     \u001b[90m━━━━━━━━━━━━━━━━━━━━━━━━━━━━━━━━━━━━━━\u001b[0m \u001b[32m199.7/199.7 KB\u001b[0m \u001b[31m10.5 MB/s\u001b[0m eta \u001b[36m0:00:00\u001b[0m\n",
            "\u001b[?25hBuilding wheels for collected packages: pyspark\n",
            "  Building wheel for pyspark (setup.py) ... \u001b[?25l\u001b[?25hdone\n",
            "  Created wheel for pyspark: filename=pyspark-3.3.1-py2.py3-none-any.whl size=281845512 sha256=f901fd48cf2f2f46977f02805baa35bc69ddb62031e4cf7ff310176c72819d88\n",
            "  Stored in directory: /root/.cache/pip/wheels/43/dc/11/ec201cd671da62fa9c5cc77078235e40722170ceba231d7598\n",
            "Successfully built pyspark\n",
            "Installing collected packages: py4j, pyspark\n",
            "Successfully installed py4j-0.10.9.5 pyspark-3.3.1\n"
          ]
        }
      ]
    },
    {
      "cell_type": "markdown",
      "source": [],
      "metadata": {
        "id": "s7ABCyZCCslT"
      }
    },
    {
      "cell_type": "code",
      "source": [
        "from pyspark.sql.session import SparkSession\n",
        "from pyspark.sql.types import StructType, StructField, IntegerType, StringType\n",
        "\n",
        "spark = SparkSession.builder\\\n",
        "        .master(\"local[*]\")\\\n",
        "        .appName('PySpark_Tutorial')\\\n",
        "        .getOrCreate()"
      ],
      "metadata": {
        "id": "zNgBQVC1Csvn"
      },
      "execution_count": 2,
      "outputs": []
    },
    {
      "cell_type": "code",
      "source": [
        "from google.colab import drive\n",
        "import pandas as pd\n",
        "drive.mount('/content/drive')"
      ],
      "metadata": {
        "id": "U0K6iWuhD6SG",
        "colab": {
          "base_uri": "https://localhost:8080/"
        },
        "outputId": "f9c9861c-6fbb-4431-c87f-2e329d8f1699"
      },
      "execution_count": 3,
      "outputs": [
        {
          "output_type": "stream",
          "name": "stdout",
          "text": [
            "Mounted at /content/drive\n"
          ]
        }
      ]
    },
    {
      "cell_type": "markdown",
      "source": [],
      "metadata": {
        "id": "vcMzIWKRCyHX"
      }
    },
    {
      "cell_type": "code",
      "source": [
        "df = spark.read.csv('/content/drive/MyDrive/notebooks/input/дз_iris.csv',\n",
        "                    header=True, \n",
        "                    sep=',', \n",
        "                    inferSchema=True,\n",
        "                    quote=\"\"\n",
        "                    )"
      ],
      "metadata": {
        "id": "V8sAHWCVCyQU"
      },
      "execution_count": 4,
      "outputs": []
    },
    {
      "cell_type": "code",
      "source": [
        "df.show()"
      ],
      "metadata": {
        "colab": {
          "base_uri": "https://localhost:8080/"
        },
        "id": "Hx2BjmCEJC1t",
        "outputId": "256c41e7-c8c3-405a-8dac-f69d03495550"
      },
      "execution_count": 5,
      "outputs": [
        {
          "output_type": "stream",
          "name": "stdout",
          "text": [
            "+-------------+---------------+----------------+---------------+------------+\n",
            "|\"sepal.length|\"\"sepal.width\"\"|\"\"petal.length\"\"|\"\"petal.width\"\"|\"\"variety\"\"\"|\n",
            "+-------------+---------------+----------------+---------------+------------+\n",
            "|         \"5.1|            3.5|             1.4|            0.2| \"\"Setosa\"\"\"|\n",
            "|         \"4.9|            3.0|             1.4|            0.2| \"\"Setosa\"\"\"|\n",
            "|         \"4.7|            3.2|             1.3|            0.2| \"\"Setosa\"\"\"|\n",
            "|         \"4.6|            3.1|             1.5|            0.2| \"\"Setosa\"\"\"|\n",
            "|           \"5|            3.6|             1.4|            0.2| \"\"Setosa\"\"\"|\n",
            "|         \"5.4|            3.9|             1.7|            0.4| \"\"Setosa\"\"\"|\n",
            "|         \"4.6|            3.4|             1.4|            0.3| \"\"Setosa\"\"\"|\n",
            "|           \"5|            3.4|             1.5|            0.2| \"\"Setosa\"\"\"|\n",
            "|         \"4.4|            2.9|             1.4|            0.2| \"\"Setosa\"\"\"|\n",
            "|         \"4.9|            3.1|             1.5|            0.1| \"\"Setosa\"\"\"|\n",
            "|         \"5.4|            3.7|             1.5|            0.2| \"\"Setosa\"\"\"|\n",
            "|         \"4.8|            3.4|             1.6|            0.2| \"\"Setosa\"\"\"|\n",
            "|         \"4.8|            3.0|             1.4|            0.1| \"\"Setosa\"\"\"|\n",
            "|         \"4.3|            3.0|             1.1|            0.1| \"\"Setosa\"\"\"|\n",
            "|         \"5.8|            4.0|             1.2|            0.2| \"\"Setosa\"\"\"|\n",
            "|         \"5.7|            4.4|             1.5|            0.4| \"\"Setosa\"\"\"|\n",
            "|         \"5.4|            3.9|             1.3|            0.4| \"\"Setosa\"\"\"|\n",
            "|         \"5.1|            3.5|             1.4|            0.3| \"\"Setosa\"\"\"|\n",
            "|         \"5.7|            3.8|             1.7|            0.3| \"\"Setosa\"\"\"|\n",
            "|         \"5.1|            3.8|             1.5|            0.3| \"\"Setosa\"\"\"|\n",
            "+-------------+---------------+----------------+---------------+------------+\n",
            "only showing top 20 rows\n",
            "\n"
          ]
        }
      ]
    },
    {
      "cell_type": "code",
      "source": [
        "import pyspark.sql.functions as F\n",
        "\n",
        "df = df.withColumnRenamed('\"sepal.length', 'sepal_length') \\\n",
        "       .withColumnRenamed('\"\"sepal.width\"\"', 'sepal_width') \\\n",
        "       .withColumnRenamed('\"\"petal.length\"\"', 'petal_length') \\\n",
        "       .withColumnRenamed('\"\"petal.width\"\"', 'petal_width') \\\n",
        "       .withColumnRenamed('\"\"variety\"\"\"', 'variety')\n",
        "df.show(5)"
      ],
      "metadata": {
        "colab": {
          "base_uri": "https://localhost:8080/"
        },
        "id": "RYXHO0xQgkdS",
        "outputId": "5cad1d42-d375-4a25-b4f8-c0ff147f4b6b"
      },
      "execution_count": 6,
      "outputs": [
        {
          "output_type": "stream",
          "name": "stdout",
          "text": [
            "+------------+-----------+------------+-----------+-----------+\n",
            "|sepal_length|sepal_width|petal_length|petal_width|    variety|\n",
            "+------------+-----------+------------+-----------+-----------+\n",
            "|        \"5.1|        3.5|         1.4|        0.2|\"\"Setosa\"\"\"|\n",
            "|        \"4.9|        3.0|         1.4|        0.2|\"\"Setosa\"\"\"|\n",
            "|        \"4.7|        3.2|         1.3|        0.2|\"\"Setosa\"\"\"|\n",
            "|        \"4.6|        3.1|         1.5|        0.2|\"\"Setosa\"\"\"|\n",
            "|          \"5|        3.6|         1.4|        0.2|\"\"Setosa\"\"\"|\n",
            "+------------+-----------+------------+-----------+-----------+\n",
            "only showing top 5 rows\n",
            "\n"
          ]
        }
      ]
    },
    {
      "cell_type": "code",
      "source": [
        "df=df.withColumn('variety', F.regexp_replace('variety', '\\\"',''))\\\n",
        ".withColumn('sepal_length', F.regexp_replace('sepal_length', '\\\"',''))\n",
        "\n",
        "df.show(10)"
      ],
      "metadata": {
        "colab": {
          "base_uri": "https://localhost:8080/"
        },
        "id": "1fEB_stzbu8k",
        "outputId": "ff4344b3-18e9-4271-a0db-2d486edae70b"
      },
      "execution_count": 7,
      "outputs": [
        {
          "output_type": "stream",
          "name": "stdout",
          "text": [
            "+------------+-----------+------------+-----------+-------+\n",
            "|sepal_length|sepal_width|petal_length|petal_width|variety|\n",
            "+------------+-----------+------------+-----------+-------+\n",
            "|         5.1|        3.5|         1.4|        0.2| Setosa|\n",
            "|         4.9|        3.0|         1.4|        0.2| Setosa|\n",
            "|         4.7|        3.2|         1.3|        0.2| Setosa|\n",
            "|         4.6|        3.1|         1.5|        0.2| Setosa|\n",
            "|           5|        3.6|         1.4|        0.2| Setosa|\n",
            "|         5.4|        3.9|         1.7|        0.4| Setosa|\n",
            "|         4.6|        3.4|         1.4|        0.3| Setosa|\n",
            "|           5|        3.4|         1.5|        0.2| Setosa|\n",
            "|         4.4|        2.9|         1.4|        0.2| Setosa|\n",
            "|         4.9|        3.1|         1.5|        0.1| Setosa|\n",
            "+------------+-----------+------------+-----------+-------+\n",
            "only showing top 10 rows\n",
            "\n"
          ]
        }
      ]
    },
    {
      "cell_type": "code",
      "source": [
        "df.groupBy('variety') \\\n",
        "  .agg(F.min(\"sepal_length\").alias(\"min_sl\"), \n",
        "       F.max(\"sepal_length\").alias(\"max_sl\"),\n",
        "       F.avg(\"sepal_length\").alias(\"avg_sl\"),\n",
        "       F.min(\"sepal_width\").alias(\"min_sw\"), \n",
        "       F.max(\"sepal_width\").alias(\"max_sw\"),\n",
        "       F.avg(\"sepal_width\").alias(\"avg_sw\"),\n",
        "       F.min(\"petal_length\").alias(\"min_pl\"), \n",
        "       F.max(\"petal_length\").alias(\"max_pl\"),\n",
        "       F.avg(\"petal_length\").alias(\"avg_pl\"),\n",
        "       F.min(\"petal_width\").alias(\"min_pw\"), \n",
        "       F.max(\"petal_width\").alias(\"max_pw\"),\n",
        "       F.avg(\"petal_width\").alias(\"avg_pw\")\n",
        "       ).show()"
      ],
      "metadata": {
        "colab": {
          "base_uri": "https://localhost:8080/"
        },
        "id": "ri7TtkX-g7-0",
        "outputId": "a59ee491-3602-4b3f-84e7-0512a31becbf"
      },
      "execution_count": 8,
      "outputs": [
        {
          "output_type": "stream",
          "name": "stdout",
          "text": [
            "+----------+------+------+-----------------+------+------+------------------+------+------+------------------+------+------+------------------+\n",
            "|   variety|min_sl|max_sl|           avg_sl|min_sw|max_sw|            avg_sw|min_pl|max_pl|            avg_pl|min_pw|max_pw|            avg_pw|\n",
            "+----------+------+------+-----------------+------+------+------------------+------+------+------------------+------+------+------------------+\n",
            "|    Setosa|   4.3|   5.8|5.005999999999999|   2.3|   4.4| 3.428000000000001|   1.0|   1.9|1.4620000000000002|   0.1|   0.6|0.2459999999999999|\n",
            "|Versicolor|   4.9|     7|            5.936|   2.0|   3.4|2.7700000000000005|   3.0|   5.1|              4.26|   1.0|   1.8|1.3259999999999998|\n",
            "| Virginica|   4.9|   7.9|6.587999999999998|   2.2|   3.8|2.9739999999999998|   4.5|   6.9|             5.552|   1.4|   2.5|             2.026|\n",
            "+----------+------+------+-----------------+------+------+------------------+------+------+------------------+------+------+------------------+\n",
            "\n"
          ]
        }
      ]
    },
    {
      "cell_type": "markdown",
      "source": [
        "Другой способ привести файл в порядок"
      ],
      "metadata": {
        "id": "cqUfsnG6hDlW"
      }
    },
    {
      "cell_type": "code",
      "source": [
        "with open('/content/drive/MyDrive/notebooks/input/дз_iris.csv') as file1:\n",
        "  with open('/content/drive/MyDrive/notebooks/input/iris_2.csv', 'w') as file2:\n",
        "    for line in file1:\n",
        "      file2.write(line.replace('\"', ''))\n",
        "\n",
        "df_2 = spark.read.csv('/content/drive/MyDrive/notebooks/input/iris_2.csv', inferSchema=True, header=True)\n",
        "\n",
        "df_2 = df_2.withColumnRenamed('sepal.length', 'sepal_length')\n",
        "df_2 = df_2.withColumnRenamed('sepal.width', 'sepal_width')\n",
        "df_2 = df_2.withColumnRenamed('petal.length', 'petal_length')\n",
        "df_2 = df_2.withColumnRenamed('petal.width', 'petal_width')"
      ],
      "metadata": {
        "id": "D9-nnUwKg8CL"
      },
      "execution_count": 9,
      "outputs": []
    },
    {
      "cell_type": "code",
      "source": [
        "df_2.groupBy('variety') \\\n",
        "  .agg(F.min(\"sepal_length\").alias(\"min_sl\"), \n",
        "       F.max(\"sepal_length\").alias(\"max_sl\"),\n",
        "       F.avg(\"sepal_length\").alias(\"avg_sl\"),\n",
        "       F.min(\"sepal_width\").alias(\"min_sw\"), \n",
        "       F.max(\"sepal_width\").alias(\"max_sw\"),\n",
        "       F.avg(\"sepal_width\").alias(\"avg_sw\"),\n",
        "       F.min(\"petal_length\").alias(\"min_pl\"), \n",
        "       F.max(\"petal_length\").alias(\"max_pl\"),\n",
        "       F.avg(\"petal_length\").alias(\"avg_pl\"),\n",
        "       F.min(\"petal_width\").alias(\"min_pw\"), \n",
        "       F.max(\"petal_width\").alias(\"max_pw\"),\n",
        "       F.avg(\"petal_width\").alias(\"avg_pw\")\n",
        "       ).show()"
      ],
      "metadata": {
        "colab": {
          "base_uri": "https://localhost:8080/"
        },
        "id": "f4rAdPhNg8Fa",
        "outputId": "fe1c5bca-77a1-4f9c-b91e-24f04680bc77"
      },
      "execution_count": 10,
      "outputs": [
        {
          "output_type": "stream",
          "name": "stdout",
          "text": [
            "+----------+------+------+-----------------+------+------+------------------+------+------+------------------+------+------+------------------+\n",
            "|   variety|min_sl|max_sl|           avg_sl|min_sw|max_sw|            avg_sw|min_pl|max_pl|            avg_pl|min_pw|max_pw|            avg_pw|\n",
            "+----------+------+------+-----------------+------+------+------------------+------+------+------------------+------+------+------------------+\n",
            "| Virginica|   4.9|   7.9|6.587999999999998|   2.2|   3.8|2.9739999999999998|   4.5|   6.9|             5.552|   1.4|   2.5|             2.026|\n",
            "|    Setosa|   4.3|   5.8|5.005999999999999|   2.3|   4.4| 3.428000000000001|   1.0|   1.9|1.4620000000000002|   0.1|   0.6|0.2459999999999999|\n",
            "|Versicolor|   4.9|   7.0|            5.936|   2.0|   3.4|2.7700000000000005|   3.0|   5.1|              4.26|   1.0|   1.8|1.3259999999999998|\n",
            "+----------+------+------+-----------------+------+------+------------------+------+------+------------------+------+------+------------------+\n",
            "\n"
          ]
        }
      ]
    },
    {
      "cell_type": "code",
      "source": [
        "# загружаем необходимые библиотеки\n",
        "import matplotlib.pyplot as plt\n",
        "import seaborn as sns\n",
        "from sklearn import datasets\n",
        "iris = datasets.load_iris()\n",
        "\n",
        "# 4. Постройте точечную диаграмму для petal_length и petal_width, раскрашенный по типам цветков.\n",
        "\n",
        "df_1 = df.toPandas()\n",
        "\n"
      ],
      "metadata": {
        "id": "XrYSiga0g8In"
      },
      "execution_count": 12,
      "outputs": []
    },
    {
      "cell_type": "code",
      "source": [
        "df_1"
      ],
      "metadata": {
        "colab": {
          "base_uri": "https://localhost:8080/",
          "height": 424
        },
        "id": "Jy428BwmKw0J",
        "outputId": "78bf7030-4437-4fce-cf5a-da6381dd58ec"
      },
      "execution_count": 14,
      "outputs": [
        {
          "output_type": "execute_result",
          "data": {
            "text/plain": [
              "    sepal_length  sepal_width  petal_length  petal_width    variety\n",
              "0            5.1          3.5           1.4          0.2     Setosa\n",
              "1            4.9          3.0           1.4          0.2     Setosa\n",
              "2            4.7          3.2           1.3          0.2     Setosa\n",
              "3            4.6          3.1           1.5          0.2     Setosa\n",
              "4              5          3.6           1.4          0.2     Setosa\n",
              "..           ...          ...           ...          ...        ...\n",
              "145          6.7          3.0           5.2          2.3  Virginica\n",
              "146          6.3          2.5           5.0          1.9  Virginica\n",
              "147          6.5          3.0           5.2          2.0  Virginica\n",
              "148          6.2          3.4           5.4          2.3  Virginica\n",
              "149          5.9          3.0           5.1          1.8  Virginica\n",
              "\n",
              "[150 rows x 5 columns]"
            ],
            "text/html": [
              "\n",
              "  <div id=\"df-a1342906-b95f-40ff-b8bf-2f3755d0f9bd\">\n",
              "    <div class=\"colab-df-container\">\n",
              "      <div>\n",
              "<style scoped>\n",
              "    .dataframe tbody tr th:only-of-type {\n",
              "        vertical-align: middle;\n",
              "    }\n",
              "\n",
              "    .dataframe tbody tr th {\n",
              "        vertical-align: top;\n",
              "    }\n",
              "\n",
              "    .dataframe thead th {\n",
              "        text-align: right;\n",
              "    }\n",
              "</style>\n",
              "<table border=\"1\" class=\"dataframe\">\n",
              "  <thead>\n",
              "    <tr style=\"text-align: right;\">\n",
              "      <th></th>\n",
              "      <th>sepal_length</th>\n",
              "      <th>sepal_width</th>\n",
              "      <th>petal_length</th>\n",
              "      <th>petal_width</th>\n",
              "      <th>variety</th>\n",
              "    </tr>\n",
              "  </thead>\n",
              "  <tbody>\n",
              "    <tr>\n",
              "      <th>0</th>\n",
              "      <td>5.1</td>\n",
              "      <td>3.5</td>\n",
              "      <td>1.4</td>\n",
              "      <td>0.2</td>\n",
              "      <td>Setosa</td>\n",
              "    </tr>\n",
              "    <tr>\n",
              "      <th>1</th>\n",
              "      <td>4.9</td>\n",
              "      <td>3.0</td>\n",
              "      <td>1.4</td>\n",
              "      <td>0.2</td>\n",
              "      <td>Setosa</td>\n",
              "    </tr>\n",
              "    <tr>\n",
              "      <th>2</th>\n",
              "      <td>4.7</td>\n",
              "      <td>3.2</td>\n",
              "      <td>1.3</td>\n",
              "      <td>0.2</td>\n",
              "      <td>Setosa</td>\n",
              "    </tr>\n",
              "    <tr>\n",
              "      <th>3</th>\n",
              "      <td>4.6</td>\n",
              "      <td>3.1</td>\n",
              "      <td>1.5</td>\n",
              "      <td>0.2</td>\n",
              "      <td>Setosa</td>\n",
              "    </tr>\n",
              "    <tr>\n",
              "      <th>4</th>\n",
              "      <td>5</td>\n",
              "      <td>3.6</td>\n",
              "      <td>1.4</td>\n",
              "      <td>0.2</td>\n",
              "      <td>Setosa</td>\n",
              "    </tr>\n",
              "    <tr>\n",
              "      <th>...</th>\n",
              "      <td>...</td>\n",
              "      <td>...</td>\n",
              "      <td>...</td>\n",
              "      <td>...</td>\n",
              "      <td>...</td>\n",
              "    </tr>\n",
              "    <tr>\n",
              "      <th>145</th>\n",
              "      <td>6.7</td>\n",
              "      <td>3.0</td>\n",
              "      <td>5.2</td>\n",
              "      <td>2.3</td>\n",
              "      <td>Virginica</td>\n",
              "    </tr>\n",
              "    <tr>\n",
              "      <th>146</th>\n",
              "      <td>6.3</td>\n",
              "      <td>2.5</td>\n",
              "      <td>5.0</td>\n",
              "      <td>1.9</td>\n",
              "      <td>Virginica</td>\n",
              "    </tr>\n",
              "    <tr>\n",
              "      <th>147</th>\n",
              "      <td>6.5</td>\n",
              "      <td>3.0</td>\n",
              "      <td>5.2</td>\n",
              "      <td>2.0</td>\n",
              "      <td>Virginica</td>\n",
              "    </tr>\n",
              "    <tr>\n",
              "      <th>148</th>\n",
              "      <td>6.2</td>\n",
              "      <td>3.4</td>\n",
              "      <td>5.4</td>\n",
              "      <td>2.3</td>\n",
              "      <td>Virginica</td>\n",
              "    </tr>\n",
              "    <tr>\n",
              "      <th>149</th>\n",
              "      <td>5.9</td>\n",
              "      <td>3.0</td>\n",
              "      <td>5.1</td>\n",
              "      <td>1.8</td>\n",
              "      <td>Virginica</td>\n",
              "    </tr>\n",
              "  </tbody>\n",
              "</table>\n",
              "<p>150 rows × 5 columns</p>\n",
              "</div>\n",
              "      <button class=\"colab-df-convert\" onclick=\"convertToInteractive('df-a1342906-b95f-40ff-b8bf-2f3755d0f9bd')\"\n",
              "              title=\"Convert this dataframe to an interactive table.\"\n",
              "              style=\"display:none;\">\n",
              "        \n",
              "  <svg xmlns=\"http://www.w3.org/2000/svg\" height=\"24px\"viewBox=\"0 0 24 24\"\n",
              "       width=\"24px\">\n",
              "    <path d=\"M0 0h24v24H0V0z\" fill=\"none\"/>\n",
              "    <path d=\"M18.56 5.44l.94 2.06.94-2.06 2.06-.94-2.06-.94-.94-2.06-.94 2.06-2.06.94zm-11 1L8.5 8.5l.94-2.06 2.06-.94-2.06-.94L8.5 2.5l-.94 2.06-2.06.94zm10 10l.94 2.06.94-2.06 2.06-.94-2.06-.94-.94-2.06-.94 2.06-2.06.94z\"/><path d=\"M17.41 7.96l-1.37-1.37c-.4-.4-.92-.59-1.43-.59-.52 0-1.04.2-1.43.59L10.3 9.45l-7.72 7.72c-.78.78-.78 2.05 0 2.83L4 21.41c.39.39.9.59 1.41.59.51 0 1.02-.2 1.41-.59l7.78-7.78 2.81-2.81c.8-.78.8-2.07 0-2.86zM5.41 20L4 18.59l7.72-7.72 1.47 1.35L5.41 20z\"/>\n",
              "  </svg>\n",
              "      </button>\n",
              "      \n",
              "  <style>\n",
              "    .colab-df-container {\n",
              "      display:flex;\n",
              "      flex-wrap:wrap;\n",
              "      gap: 12px;\n",
              "    }\n",
              "\n",
              "    .colab-df-convert {\n",
              "      background-color: #E8F0FE;\n",
              "      border: none;\n",
              "      border-radius: 50%;\n",
              "      cursor: pointer;\n",
              "      display: none;\n",
              "      fill: #1967D2;\n",
              "      height: 32px;\n",
              "      padding: 0 0 0 0;\n",
              "      width: 32px;\n",
              "    }\n",
              "\n",
              "    .colab-df-convert:hover {\n",
              "      background-color: #E2EBFA;\n",
              "      box-shadow: 0px 1px 2px rgba(60, 64, 67, 0.3), 0px 1px 3px 1px rgba(60, 64, 67, 0.15);\n",
              "      fill: #174EA6;\n",
              "    }\n",
              "\n",
              "    [theme=dark] .colab-df-convert {\n",
              "      background-color: #3B4455;\n",
              "      fill: #D2E3FC;\n",
              "    }\n",
              "\n",
              "    [theme=dark] .colab-df-convert:hover {\n",
              "      background-color: #434B5C;\n",
              "      box-shadow: 0px 1px 3px 1px rgba(0, 0, 0, 0.15);\n",
              "      filter: drop-shadow(0px 1px 2px rgba(0, 0, 0, 0.3));\n",
              "      fill: #FFFFFF;\n",
              "    }\n",
              "  </style>\n",
              "\n",
              "      <script>\n",
              "        const buttonEl =\n",
              "          document.querySelector('#df-a1342906-b95f-40ff-b8bf-2f3755d0f9bd button.colab-df-convert');\n",
              "        buttonEl.style.display =\n",
              "          google.colab.kernel.accessAllowed ? 'block' : 'none';\n",
              "\n",
              "        async function convertToInteractive(key) {\n",
              "          const element = document.querySelector('#df-a1342906-b95f-40ff-b8bf-2f3755d0f9bd');\n",
              "          const dataTable =\n",
              "            await google.colab.kernel.invokeFunction('convertToInteractive',\n",
              "                                                     [key], {});\n",
              "          if (!dataTable) return;\n",
              "\n",
              "          const docLinkHtml = 'Like what you see? Visit the ' +\n",
              "            '<a target=\"_blank\" href=https://colab.research.google.com/notebooks/data_table.ipynb>data table notebook</a>'\n",
              "            + ' to learn more about interactive tables.';\n",
              "          element.innerHTML = '';\n",
              "          dataTable['output_type'] = 'display_data';\n",
              "          await google.colab.output.renderOutput(dataTable, element);\n",
              "          const docLink = document.createElement('div');\n",
              "          docLink.innerHTML = docLinkHtml;\n",
              "          element.appendChild(docLink);\n",
              "        }\n",
              "      </script>\n",
              "    </div>\n",
              "  </div>\n",
              "  "
            ]
          },
          "metadata": {},
          "execution_count": 14
        }
      ]
    },
    {
      "cell_type": "code",
      "source": [
        "df_1.info()"
      ],
      "metadata": {
        "colab": {
          "base_uri": "https://localhost:8080/"
        },
        "id": "s3TWRhP8K5YJ",
        "outputId": "6348749c-e0e7-4d9b-d0ed-175fcd5784b0"
      },
      "execution_count": 16,
      "outputs": [
        {
          "output_type": "stream",
          "name": "stdout",
          "text": [
            "<class 'pandas.core.frame.DataFrame'>\n",
            "RangeIndex: 150 entries, 0 to 149\n",
            "Data columns (total 5 columns):\n",
            " #   Column        Non-Null Count  Dtype  \n",
            "---  ------        --------------  -----  \n",
            " 0   sepal_length  150 non-null    object \n",
            " 1   sepal_width   150 non-null    float64\n",
            " 2   petal_length  150 non-null    float64\n",
            " 3   petal_width   150 non-null    float64\n",
            " 4   variety       150 non-null    object \n",
            "dtypes: float64(3), object(2)\n",
            "memory usage: 6.0+ KB\n"
          ]
        }
      ]
    },
    {
      "cell_type": "code",
      "source": [
        "fig, ax = plt.subplots(figsize=(10,8))\n",
        "sns.scatterplot(x='petal_length', y='petal_width', hue='variety', data=df_1, legend=\"full\")\n",
        "plt.show()"
      ],
      "metadata": {
        "colab": {
          "base_uri": "https://localhost:8080/",
          "height": 498
        },
        "id": "eQc3_7qeKvQn",
        "outputId": "3c450d9d-4671-4e28-be07-4bf574c51698"
      },
      "execution_count": 39,
      "outputs": [
        {
          "output_type": "display_data",
          "data": {
            "text/plain": [
              "<Figure size 720x576 with 1 Axes>"
            ],
            "image/png": "[encoded data removed]"
          },
          "metadata": {
            "needs_background": "light"
          }
        }
      ]
    },
    {
      "cell_type": "code",
      "source": [
        "from pyspark.sql import SparkSession, functions\n",
        "rule = functions.when(df.petal_length < 1.5, 'Setosa').otherwise('Unknow')"
      ],
      "metadata": {
        "id": "6kWSgGsJR5NQ"
      },
      "execution_count": 45,
      "outputs": []
    },
    {
      "cell_type": "code",
      "source": [
        "df = df.withColumn('prediction', rule)\n",
        "df.show(5)"
      ],
      "metadata": {
        "colab": {
          "base_uri": "https://localhost:8080/"
        },
        "id": "1o7f_R59R5dh",
        "outputId": "3571caf6-2fbd-4b57-d6d7-8d104bbf9cf9"
      },
      "execution_count": 46,
      "outputs": [
        {
          "output_type": "stream",
          "name": "stdout",
          "text": [
            "+------------+-----------+------------+-----------+-------+----------+\n",
            "|sepal_length|sepal_width|petal_length|petal_width|variety|prediction|\n",
            "+------------+-----------+------------+-----------+-------+----------+\n",
            "|         5.1|        3.5|         1.4|        0.2| Setosa|    Setosa|\n",
            "|         4.9|        3.0|         1.4|        0.2| Setosa|    Setosa|\n",
            "|         4.7|        3.2|         1.3|        0.2| Setosa|    Setosa|\n",
            "|         4.6|        3.1|         1.5|        0.2| Setosa|    Unknow|\n",
            "|           5|        3.6|         1.4|        0.2| Setosa|    Setosa|\n",
            "+------------+-----------+------------+-----------+-------+----------+\n",
            "only showing top 5 rows\n",
            "\n"
          ]
        }
      ]
    },
    {
      "cell_type": "code",
      "source": [
        "df.where((df.prediction == 'Setosa') & (df.variety == 'Setosa')).count()"
      ],
      "metadata": {
        "colab": {
          "base_uri": "https://localhost:8080/"
        },
        "id": "NVQidcanTvll",
        "outputId": "e24799b0-8b6a-4a47-b054-f5b765e81fcf"
      },
      "execution_count": 47,
      "outputs": [
        {
          "output_type": "execute_result",
          "data": {
            "text/plain": [
              "24"
            ]
          },
          "metadata": {},
          "execution_count": 47
        }
      ]
    },
    {
      "cell_type": "code",
      "source": [
        "df.where((df.prediction == 'Setosa') & (df.variety != 'Setosa')).count()"
      ],
      "metadata": {
        "colab": {
          "base_uri": "https://localhost:8080/"
        },
        "id": "jbS1jud0Tvo5",
        "outputId": "30f078a4-bbc5-4b3b-f91b-d1862bdd0cc4"
      },
      "execution_count": 48,
      "outputs": [
        {
          "output_type": "execute_result",
          "data": {
            "text/plain": [
              "0"
            ]
          },
          "metadata": {},
          "execution_count": 48
        }
      ]
    },
    {
      "cell_type": "code",
      "source": [],
      "metadata": {
        "id": "RPp21qrRTvsz"
      },
      "execution_count": null,
      "outputs": []
    }
  ]
}